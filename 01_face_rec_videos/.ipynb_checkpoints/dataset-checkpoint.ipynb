{
 "cells": [
  {
   "cell_type": "code",
   "execution_count": 5,
   "metadata": {},
   "outputs": [],
   "source": [
    "import cv2\n",
    "\n",
    "web_cam = cv2.VideoCapture(0)\n",
    "\n",
    "cascPath = \"C:/Users/jdiaz/Desktop/Face Recognition/face_recognitionOpenCv2-master/Cascades/haarcascade_frontalface_default.xml\"\n",
    "faceCascade = cv2.CascadeClassifier(cascPath)\n",
    "\n",
    "count = 0\n",
    "\n",
    "while(True):\n",
    "    _, imagen_marco = web_cam.read()\n",
    "\n",
    "    grises = cv2.cvtColor(imagen_marco, cv2.COLOR_BGR2GRAY)\n",
    "\n",
    "    rostro = faceCascade.detectMultiScale(grises, 1.5, 5)\n",
    "\n",
    "    for(x,y,w,h) in rostro:\n",
    "        cv2.rectangle(imagen_marco, (x,y), (x+w, y+h), (255,0,0), 4)\n",
    "        count += 1\n",
    "       \n",
    "        cv2.imwrite(\"C:/Users/jdiaz/Desktop/Face Recognition/face_recognitionOpenCv2-master/images/Jesus/Jesus_\"+str(count)+\".jpg\", grises[y:y+h, x:x+w])\n",
    "        cv2.imshow(\"Creando Dataset\", imagen_marco)\n",
    "\n",
    "    if cv2.waitKey(1) & 0xFF == ord('q'):\n",
    "        break\n",
    "    \n",
    "    elif count >= 400:\n",
    "        break\n",
    "\n",
    "\n",
    "# Cuando todo está hecho, liberamos la captura\n",
    "web_cam.release()\n",
    "cv2.destroyAllWindows()"
   ]
  }
 ],
 "metadata": {
  "kernelspec": {
   "display_name": "Python 3",
   "language": "python",
   "name": "python3"
  },
  "language_info": {
   "codemirror_mode": {
    "name": "ipython",
    "version": 3
   },
   "file_extension": ".py",
   "mimetype": "text/x-python",
   "name": "python",
   "nbconvert_exporter": "python",
   "pygments_lexer": "ipython3",
   "version": "3.7.6"
  }
 },
 "nbformat": 4,
 "nbformat_minor": 4
}
