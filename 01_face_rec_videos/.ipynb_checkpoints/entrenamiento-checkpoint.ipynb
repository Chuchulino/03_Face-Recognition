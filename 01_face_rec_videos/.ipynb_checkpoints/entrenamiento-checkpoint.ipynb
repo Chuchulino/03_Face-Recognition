{
 "cells": [
  {
   "cell_type": "code",
   "execution_count": 21,
   "metadata": {},
   "outputs": [],
   "source": [
    "import cv2\n",
    "import sys\n",
    "import os\n",
    "import numpy as np\n",
    "from PIL import Image\n",
    "import pickle"
   ]
  },
  {
   "cell_type": "code",
   "execution_count": 8,
   "metadata": {},
   "outputs": [],
   "source": [
    "cascPath = \"C:/Users/jdiaz/Desktop/Face Recognition/face_recognitionOpenCv2-master/Cascades/haarcascade_frontalface_alt2.xml\"\n",
    "faceCascade = cv2.CascadeClassifier(cascPath)"
   ]
  },
  {
   "cell_type": "code",
   "execution_count": 24,
   "metadata": {},
   "outputs": [],
   "source": [
    "#reconocimiento con opencv\n",
    "reconocimiento = cv2.face.LBPHFaceRecognizer_create()\n",
    "\n",
    "BASE_DIR = os.path.dirname(os.path.abspath(sys.argv[0]))\n",
    "image_dir = os.path.join(BASE_DIR,\"C:/Users/jdiaz/Desktop/Face Recognition/face_recognitionOpenCv2-master/images\")\n",
    "\n",
    "\n",
    "current_id = 0\n",
    "etiquetas_id = {}\n",
    "y_etiquetas = []\n",
    "x_entrenamiento = []\n",
    "\n",
    "for root, dirs, archivos in os.walk(image_dir):\n",
    "    for archivo in archivos:\n",
    "        if archivo.endswith(\"png\") or archivo.endswith(\"jpg\"):\n",
    "            pathImagen = os.path.join(root,archivo)\n",
    "            etiqueta = os.path.basename(root).replace(\" \", \"-\")#.lower()\n",
    "            #print(etiqueta,pathImagen)\n",
    "\n",
    "            #Creando las etiquetas\n",
    "            if not etiqueta in etiquetas_id:                \n",
    "                etiquetas_id[etiqueta] = current_id\n",
    "                current_id += 1            \n",
    "            id_ = etiquetas_id[etiqueta]\n",
    "            #print(etiquetas_id)\n",
    "\n",
    "            pil_image = Image.open(pathImagen).convert(\"L\")\n",
    "            tamanio = (550,550)\n",
    "            imagenFinal = pil_image.resize(tamanio, Image.ANTIALIAS)\n",
    "            image_array = np.array(pil_image,\"uint8\")\n",
    "            #print(image_array)\n",
    "\n",
    "            rostros = faceCascade.detectMultiScale(image_array, 1.5, 5)\n",
    "\n",
    "            for (x,y,w,h) in rostros:\n",
    "                roi = image_array[y:y+h, x:x+w]\n",
    "                x_entrenamiento.append(roi)\n",
    "                y_etiquetas.append(id_)\n",
    "\n",
    "\n",
    "#print(y_etiquetas)                \n",
    "#print(x_entrenamiento)\n",
    "with open(\"labels.pickle\",'wb') as f:\n",
    "    pickle.dump(etiquetas_id, f)\n",
    "\n",
    "reconocimiento.train(x_entrenamiento, np.array(y_etiquetas))\n",
    "reconocimiento.save(\"entrenamiento.yml\")"
   ]
  },
  {
   "cell_type": "code",
   "execution_count": 23,
   "metadata": {},
   "outputs": [],
   "source": [
    "PROJECT_ROOT = os.path.dirname(os.path.abspath(sys.argv[0]))\n",
    "BASE_DIR = os.path.dirname(PROJECT_ROOT)"
   ]
  },
  {
   "cell_type": "code",
   "execution_count": 22,
   "metadata": {},
   "outputs": [
    {
     "data": {
      "text/plain": [
       "'C:\\\\Users\\\\jdiaz\\\\.conda\\\\envs\\\\Ambiente1\\\\lib\\\\site-packages'"
      ]
     },
     "execution_count": 22,
     "metadata": {},
     "output_type": "execute_result"
    }
   ],
   "source": [
    "os.path.abspath(os.path.dirname(sys.argv[0]))"
   ]
  }
 ],
 "metadata": {
  "kernelspec": {
   "display_name": "Python 3",
   "language": "python",
   "name": "python3"
  },
  "language_info": {
   "codemirror_mode": {
    "name": "ipython",
    "version": 3
   },
   "file_extension": ".py",
   "mimetype": "text/x-python",
   "name": "python",
   "nbconvert_exporter": "python",
   "pygments_lexer": "ipython3",
   "version": "3.7.6"
  }
 },
 "nbformat": 4,
 "nbformat_minor": 4
}
